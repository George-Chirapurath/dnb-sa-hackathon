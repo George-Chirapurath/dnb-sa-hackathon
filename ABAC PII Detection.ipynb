{
 "cells": [
  {
   "cell_type": "code",
   "execution_count": 0,
   "metadata": {
    "application/vnd.databricks.v1+cell": {
     "cellMetadata": {
      "byteLimit": 2048000,
      "rowLimit": 10000
     },
     "inputWidgets": {},
     "nuid": "1b6ea0ab-78ec-4c7f-a2d5-ca0cf4d5df41",
     "showTitle": false,
     "tableResultSettingsMap": {},
     "title": ""
    }
   },
   "outputs": [],
   "source": [
    "catalog = \"george_test\"\n",
    "schema = \"abac\""
   ]
  },
  {
   "cell_type": "code",
   "execution_count": 0,
   "metadata": {
    "application/vnd.databricks.v1+cell": {
     "cellMetadata": {
      "byteLimit": 2048000,
      "rowLimit": 10000
     },
     "inputWidgets": {},
     "nuid": "2e65cea3-5df6-4e3b-a21b-b42d11b6f18c",
     "showTitle": false,
     "tableResultSettingsMap": {},
     "title": ""
    }
   },
   "outputs": [],
   "source": [
    "# Masks any SSN input by returning the last four digits of the SSN\n",
    "spark.sql(\n",
    "    f\"CREATE OR REPLACE FUNCTION george_test.abac.mask_SSN(ssn STRING) RETURN CONCAT('***-**-', RIGHT(ssn, 4))\"\n",
    ") "
   ]
  },
  {
   "cell_type": "code",
   "execution_count": 0,
   "metadata": {
    "application/vnd.databricks.v1+cell": {
     "cellMetadata": {
      "byteLimit": 2048000,
      "rowLimit": 10000
     },
     "inputWidgets": {},
     "nuid": "dd05eab6-893e-480d-bba0-651edb2a5a4a",
     "showTitle": false,
     "tableResultSettingsMap": {},
     "title": ""
    }
   },
   "outputs": [],
   "source": [
    "# Masks any credit card input by returning the first six digits of the credit card number \n",
    "spark.sql(\n",
    "    f\"CREATE OR REPLACE FUNCTION {catalog}.{schema}.mask_CCNumber(cc_number STRING) RETURN CONCAT(LEFT(cc_number, 6), '**********');\"\n",
    ") "
   ]
  },
  {
   "cell_type": "code",
   "execution_count": 0,
   "metadata": {
    "application/vnd.databricks.v1+cell": {
     "cellMetadata": {
      "byteLimit": 2048000,
      "implicitDf": true,
      "rowLimit": 10000
     },
     "inputWidgets": {},
     "nuid": "65193e5c-9179-4c1f-a02b-0fe5fbfbac87",
     "showTitle": false,
     "tableResultSettingsMap": {},
     "title": ""
    }
   },
   "outputs": [],
   "source": [
    "# Masks any email input by randomizing the string \n",
    "spark.sql(\n",
    "    f\"CREATE OR REPLACE FUNCTION {catalog}.{schema}.mask_email(email STRING) RETURN RIGHT(uuid(), LEN(email));\"\n",
    ") "
   ]
  },
  {
   "cell_type": "code",
   "execution_count": 0,
   "metadata": {
    "application/vnd.databricks.v1+cell": {
     "cellMetadata": {
      "byteLimit": 2048000,
      "rowLimit": 10000
     },
     "inputWidgets": {},
     "nuid": "8280379e-35df-42f9-b503-128779233d4c",
     "showTitle": false,
     "tableResultSettingsMap": {},
     "title": ""
    }
   },
   "outputs": [],
   "source": [
    "# Masks any phone number input by returning the middle three digits of the phone number\n",
    "spark.sql(\n",
    "    f\"CREATE OR REPLACE FUNCTION {catalog}.{schema}.mask_phone_number(phone_number STRING) RETURN CONCAT('***', SUBSTRING (phone_number, 6,5), '****');\"\n",
    ") "
   ]
  },
  {
   "cell_type": "code",
   "execution_count": 0,
   "metadata": {
    "application/vnd.databricks.v1+cell": {
     "cellMetadata": {
      "byteLimit": 2048000,
      "rowLimit": 10000
     },
     "inputWidgets": {},
     "nuid": "e8cae2be-a21e-475a-884b-e609a80e3410",
     "showTitle": false,
     "tableResultSettingsMap": {},
     "title": ""
    }
   },
   "outputs": [],
   "source": [
    "# Masks any location input by randomizing the string \n",
    "spark.sql(\n",
    "    f\"CREATE OR REPLACE FUNCTION {catalog}.{schema}.mask_location(location STRING) RETURN RIGHT(uuid(), LEN(location));\"\n",
    ") "
   ]
  },
  {
   "cell_type": "code",
   "execution_count": 0,
   "metadata": {
    "application/vnd.databricks.v1+cell": {
     "cellMetadata": {
      "byteLimit": 2048000,
      "rowLimit": 10000
     },
     "inputWidgets": {},
     "nuid": "81cf599c-ffbb-464d-82d8-1450ad1623ae",
     "showTitle": false,
     "tableResultSettingsMap": {},
     "title": ""
    }
   },
   "outputs": [],
   "source": [
    "# Masks any location input by randomizing the string\n",
    "spark.sql(\n",
    "    f\"CREATE OR REPLACE FUNCTION {catalog}.{schema}.mask_ip(ip STRING) RETURN '1.1.1.1'\"\n",
    ")"
   ]
  }
 ],
 "metadata": {
  "application/vnd.databricks.v1+notebook": {
   "computePreferences": null,
   "dashboards": [],
   "environmentMetadata": {
    "base_environment": "",
    "environment_version": "3"
   },
   "inputWidgetPreferences": null,
   "language": "python",
   "notebookMetadata": {
    "mostRecentlyExecutedCommandWithImplicitDF": {
     "commandId": 6444096297401769,
     "dataframes": [
      "_sqldf"
     ]
    },
    "pythonIndentUnit": 2
   },
   "notebookName": "ABAC PII Detection",
   "widgets": {}
  },
  "language_info": {
   "name": "python"
  }
 },
 "nbformat": 4,
 "nbformat_minor": 0
}
