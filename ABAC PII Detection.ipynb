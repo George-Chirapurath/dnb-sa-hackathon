{
 "cells": [
  {
   "cell_type": "markdown",
   "metadata": {
    "application/vnd.databricks.v1+cell": {
     "cellMetadata": {},
     "inputWidgets": {},
     "nuid": "f59b9dd6-0e0f-420c-850d-579cccf1b020",
     "showTitle": false,
     "tableResultSettingsMap": {},
     "title": ""
    }
   },
   "source": [
    "# Welcome to the ABAC + Data Classification Demo!\n",
    "\n",
    "To get started fill in the Catalog and Schema variables below, and start a Data Classification on your Catalog"
   ]
  },
  {
   "cell_type": "code",
   "execution_count": 0,
   "metadata": {
    "application/vnd.databricks.v1+cell": {
     "cellMetadata": {
      "byteLimit": 2048000,
      "rowLimit": 10000
     },
     "inputWidgets": {},
     "nuid": "1b6ea0ab-78ec-4c7f-a2d5-ca0cf4d5df41",
     "showTitle": false,
     "tableResultSettingsMap": {},
     "title": ""
    }
   },
   "outputs": [],
   "source": [
    "# Specify a Catalog and Schema name you'd like to add a table to. If the Catalog or Schema doesn't exist, the setup script will create the appropriate object for you.\n",
    "\n",
    "catalog = # \"TO DO\"\n",
    "schema = # \"TO DO\""
   ]
  },
  {
   "cell_type": "code",
   "execution_count": 0,
   "metadata": {
    "application/vnd.databricks.v1+cell": {
     "cellMetadata": {
      "byteLimit": 2048000,
      "rowLimit": 10000
     },
     "inputWidgets": {},
     "nuid": "6435f908-4fe7-45bd-b94a-381dd525f9bd",
     "showTitle": false,
     "tableResultSettingsMap": {},
     "title": ""
    }
   },
   "outputs": [],
   "source": [
    "dbutils.notebook.run(\"Setup/Setup Notebook\", 300, {\"catalog\": f\"{catalog}\", \"schema\": f\"{schema}\"})"
   ]
  },
  {
   "cell_type": "markdown",
   "metadata": {
    "application/vnd.databricks.v1+cell": {
     "cellMetadata": {},
     "inputWidgets": {},
     "nuid": "e3d4f51f-00c0-46c0-a49c-dc44ec599c80",
     "showTitle": false,
     "tableResultSettingsMap": {},
     "title": ""
    }
   },
   "source": [
    "# Stop!\n",
    "\n",
    "Before continuing, please ensure that you've [started a Data Classification job](https://docs.databricks.com/aws/en/data-governance/unity-catalog/data-classification#enable-data-classification) at the Catalog level that includes the Schema you specified above. Once done, run all of the following cells."
   ]
  },
  {
   "cell_type": "code",
   "execution_count": 0,
   "metadata": {
    "application/vnd.databricks.v1+cell": {
     "cellMetadata": {
      "byteLimit": 2048000,
      "rowLimit": 10000
     },
     "inputWidgets": {},
     "nuid": "2e65cea3-5df6-4e3b-a21b-b42d11b6f18c",
     "showTitle": false,
     "tableResultSettingsMap": {},
     "title": ""
    }
   },
   "outputs": [],
   "source": [
    "# Masks any SSN input by returning the last four digits of the SSN\n",
    "spark.sql(\n",
    "    f\"CREATE OR REPLACE FUNCTION {catalog}.{schema}.mask_SSN(ssn STRING) RETURN CONCAT('***-**-', RIGHT(ssn, 4))\"\n",
    ") "
   ]
  },
  {
   "cell_type": "code",
   "execution_count": 0,
   "metadata": {
    "application/vnd.databricks.v1+cell": {
     "cellMetadata": {
      "byteLimit": 2048000,
      "implicitDf": true,
      "rowLimit": 10000
     },
     "inputWidgets": {},
     "nuid": "fcec9706-846b-4944-be73-aff1b6855e36",
     "showTitle": false,
     "tableResultSettingsMap": {},
     "title": ""
    }
   },
   "outputs": [],
   "source": [
    "# Creates Tag Policy based on detected SSNs\n",
    "spark.sql(\n",
    "    f\"\"\"\n",
    "    CREATE OR REPLACE POLICY mask_SSN\n",
    "      ON SCHEMA {catalog}.{schema}\n",
    "      COMMENT 'Mask SSN by only showing last four digits'\n",
    "      COLUMN MASK {catalog}.{schema}.mask_SSN\n",
    "      TO `account users`\n",
    "      FOR TABLES\n",
    "      MATCH COLUMNS\n",
    "        hasTag('class.us_ssn') as ssn\n",
    "      ON COLUMN ssn;\n",
    "    \"\"\"\n",
    ")"
   ]
  },
  {
   "cell_type": "code",
   "execution_count": 0,
   "metadata": {
    "application/vnd.databricks.v1+cell": {
     "cellMetadata": {
      "byteLimit": 2048000,
      "rowLimit": 10000
     },
     "inputWidgets": {},
     "nuid": "dd05eab6-893e-480d-bba0-651edb2a5a4a",
     "showTitle": false,
     "tableResultSettingsMap": {},
     "title": ""
    }
   },
   "outputs": [],
   "source": [
    "# Masks any credit card input by returning the first six digits of the credit card number \n",
    "spark.sql(\n",
    "    f\"CREATE OR REPLACE FUNCTION {catalog}.{schema}.mask_CCNumber(cc_number STRING) RETURN CONCAT(LEFT(cc_number, 6), '**********');\"\n",
    ") "
   ]
  },
  {
   "cell_type": "code",
   "execution_count": 0,
   "metadata": {
    "application/vnd.databricks.v1+cell": {
     "cellMetadata": {
      "byteLimit": 2048000,
      "rowLimit": 10000
     },
     "inputWidgets": {},
     "nuid": "b14a1d29-d5d4-4a25-a9b7-5fb660ffb493",
     "showTitle": false,
     "tableResultSettingsMap": {},
     "title": ""
    }
   },
   "outputs": [],
   "source": [
    "spark.sql(\n",
    "    f\"\"\"\n",
    "    CREATE OR REPLACE POLICY mask_CC\n",
    "      ON SCHEMA {catalog}.{schema}\n",
    "      COMMENT 'Mask Credit Card by only showing first six digits'\n",
    "      COLUMN MASK {catalog}.{schema}.mask_CCNumber\n",
    "      TO `account users`\n",
    "      FOR TABLES\n",
    "      MATCH COLUMNS\n",
    "        hasTag('class.credit_card') as cc\n",
    "      ON COLUMN cc;\n",
    "    \"\"\"\n",
    ")"
   ]
  },
  {
   "cell_type": "code",
   "execution_count": 0,
   "metadata": {
    "application/vnd.databricks.v1+cell": {
     "cellMetadata": {
      "byteLimit": 2048000,
      "implicitDf": true,
      "rowLimit": 10000
     },
     "inputWidgets": {},
     "nuid": "65193e5c-9179-4c1f-a02b-0fe5fbfbac87",
     "showTitle": false,
     "tableResultSettingsMap": {},
     "title": ""
    }
   },
   "outputs": [],
   "source": [
    "# Masks any email input by randomizing the string \n",
    "spark.sql(\n",
    "    f\"CREATE OR REPLACE FUNCTION {catalog}.{schema}.mask_email(email STRING) RETURN RIGHT(uuid(), LEN(email));\"\n",
    ") "
   ]
  },
  {
   "cell_type": "code",
   "execution_count": 0,
   "metadata": {
    "application/vnd.databricks.v1+cell": {
     "cellMetadata": {},
     "inputWidgets": {},
     "nuid": "02ba2e70-8f1f-4ac2-a0d2-41881de9f438",
     "showTitle": false,
     "tableResultSettingsMap": {},
     "title": ""
    }
   },
   "outputs": [],
   "source": [
    "spark.sql(\n",
    "    f\"\"\"\n",
    "    CREATE OR REPLACE POLICY mask_email\n",
    "      ON SCHEMA {catalog}.{schema}\n",
    "      COMMENT 'Mask email by randomizing string'\n",
    "      COLUMN MASK {catalog}.{schema}.mask_email\n",
    "      TO `account users`\n",
    "      FOR TABLES\n",
    "      MATCH COLUMNS\n",
    "        hasTag('class.email_address') as email\n",
    "      ON COLUMN email;\n",
    "    \"\"\"\n",
    ")"
   ]
  },
  {
   "cell_type": "code",
   "execution_count": 0,
   "metadata": {
    "application/vnd.databricks.v1+cell": {
     "cellMetadata": {
      "byteLimit": 2048000,
      "rowLimit": 10000
     },
     "inputWidgets": {},
     "nuid": "8280379e-35df-42f9-b503-128779233d4c",
     "showTitle": false,
     "tableResultSettingsMap": {},
     "title": ""
    }
   },
   "outputs": [],
   "source": [
    "# Masks any phone number input by returning the middle three digits of the phone number\n",
    "spark.sql(\n",
    "    f\"CREATE OR REPLACE FUNCTION {catalog}.{schema}.mask_phone_number(phone_number STRING) RETURN CONCAT('***', SUBSTRING (phone_number, 6,5), '****');\"\n",
    ") "
   ]
  },
  {
   "cell_type": "code",
   "execution_count": 0,
   "metadata": {
    "application/vnd.databricks.v1+cell": {
     "cellMetadata": {
      "byteLimit": 2048000,
      "rowLimit": 10000
     },
     "inputWidgets": {},
     "nuid": "abde4996-c779-476a-ac1b-d01d2310fa3e",
     "showTitle": false,
     "tableResultSettingsMap": {},
     "title": ""
    }
   },
   "outputs": [],
   "source": [
    "spark.sql(\n",
    "    f\"\"\"\n",
    "    CREATE OR REPLACE POLICY mask_phone_number\n",
    "      ON SCHEMA {catalog}.{schema}\n",
    "      COMMENT 'Mask phone number by showing the middle three digits'\n",
    "      COLUMN MASK {catalog}.{schema}.mask_phone_number\n",
    "      TO `account users`\n",
    "      FOR TABLES\n",
    "      MATCH COLUMNS\n",
    "        hasTag('class.phone_number') as phone_number\n",
    "      ON COLUMN phone_number;\n",
    "    \"\"\"\n",
    ")"
   ]
  },
  {
   "cell_type": "code",
   "execution_count": 0,
   "metadata": {
    "application/vnd.databricks.v1+cell": {
     "cellMetadata": {
      "byteLimit": 2048000,
      "rowLimit": 10000
     },
     "inputWidgets": {},
     "nuid": "e8cae2be-a21e-475a-884b-e609a80e3410",
     "showTitle": false,
     "tableResultSettingsMap": {},
     "title": ""
    }
   },
   "outputs": [],
   "source": [
    "# Masks any location input by randomizing the string \n",
    "spark.sql(\n",
    "    f\"CREATE OR REPLACE FUNCTION {catalog}.{schema}.mask_location(location STRING) RETURN RIGHT(uuid(), LEN(location));\"\n",
    ") "
   ]
  },
  {
   "cell_type": "code",
   "execution_count": 0,
   "metadata": {
    "application/vnd.databricks.v1+cell": {
     "cellMetadata": {
      "byteLimit": 2048000,
      "rowLimit": 10000
     },
     "inputWidgets": {},
     "nuid": "81cf599c-ffbb-464d-82d8-1450ad1623ae",
     "showTitle": false,
     "tableResultSettingsMap": {},
     "title": ""
    }
   },
   "outputs": [],
   "source": [
    "# Masks any IP address input by randomizing the string\n",
    "spark.sql(\n",
    "    f\"CREATE OR REPLACE FUNCTION {catalog}.{schema}.mask_ip(ip STRING) RETURN '1.1.1.1'\"\n",
    ")"
   ]
  },
  {
   "cell_type": "code",
   "execution_count": 0,
   "metadata": {
    "application/vnd.databricks.v1+cell": {
     "cellMetadata": {
      "byteLimit": 2048000,
      "rowLimit": 10000
     },
     "inputWidgets": {},
     "nuid": "3bdd35bf-c527-42e4-8569-7f0af128946b",
     "showTitle": false,
     "tableResultSettingsMap": {},
     "title": ""
    }
   },
   "outputs": [],
   "source": [
    "spark.sql(\n",
    "    f\"\"\"\n",
    "    CREATE OR REPLACE POLICY mask_ip\n",
    "      ON SCHEMA {catalog}.{schema}\n",
    "      COMMENT 'Mask phone number by showing the middle three digits'\n",
    "      COLUMN MASK {catalog}.{schema}.mask_ip\n",
    "      TO `account users`\n",
    "      FOR TABLES\n",
    "      MATCH COLUMNS\n",
    "        hasTag('class.ip_address') as ip_address\n",
    "      ON COLUMN ip_address;\n",
    "    \"\"\"\n",
    ")"
   ]
  },
  {
   "cell_type": "markdown",
   "metadata": {
    "application/vnd.databricks.v1+cell": {
     "cellMetadata": {},
     "inputWidgets": {},
     "nuid": "bfa0cf57-80da-4be1-8d43-a866b6d33017",
     "showTitle": false,
     "tableResultSettingsMap": {},
     "title": ""
    }
   },
   "source": [
    "# Congrats! \n",
    "You made it to the end of the notebook. Once the data classification is complete, navigate to the table you created and view your masked data."
   ]
  }
 ],
 "metadata": {
  "application/vnd.databricks.v1+notebook": {
   "computePreferences": null,
   "dashboards": [],
   "environmentMetadata": {
    "base_environment": "",
    "environment_version": "3"
   },
   "inputWidgetPreferences": null,
   "language": "python",
   "notebookMetadata": {
    "mostRecentlyExecutedCommandWithImplicitDF": {
     "commandId": 6444096297406211,
     "dataframes": [
      "_sqldf"
     ]
    },
    "pythonIndentUnit": 2
   },
   "notebookName": "ABAC PII Detection",
   "widgets": {}
  },
  "language_info": {
   "name": "python"
  }
 },
 "nbformat": 4,
 "nbformat_minor": 0
}
